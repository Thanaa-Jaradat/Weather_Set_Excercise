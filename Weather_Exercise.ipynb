{
 "cells": [
  {
   "cell_type": "code",
   "execution_count": 1,
   "id": "f59ee8c2",
   "metadata": {
    "pycharm": {
     "name": "#%%\n"
    },
    "scrolled": false
   },
   "outputs": [],
   "source": [
    "%matplotlib inline \n",
    "import pandas as pd\n",
    "from datetime import datetime, timedelta\n",
    "from pandas import Series, DataFrame\n",
    "import numpy as np\n",
    "import matplotlib as mpl\n",
    "from itertools import chain\n",
    "import matplotlib.pyplot as plt\n",
    "import matplotlib.dates as mdates\n",
    "import seaborn as sns\n",
    "df_data = pd.read_csv('Weatherdataset.csv', encoding='utf-8')"
   ]
  },
  {
   "cell_type": "markdown",
   "id": "968dda63",
   "metadata": {
    "pycharm": {
     "name": "#%% md\n"
    }
   },
   "source": [
    " The following line returns the first 5 rows of the dataset"
   ]
  },
  {
   "cell_type": "code",
   "execution_count": null,
   "id": "5109a6c0",
   "metadata": {
    "pycharm": {
     "name": "#%%\n"
    }
   },
   "outputs": [],
   "source": [
    "df_data.head()"
   ]
  },
  {
   "cell_type": "markdown",
   "id": "b0c2f87a",
   "metadata": {
    "pycharm": {
     "name": "#%% md\n"
    }
   },
   "source": [
    "Details of df_data data frame are"
   ]
  },
  {
   "cell_type": "code",
   "execution_count": null,
   "id": "d74e8078",
   "metadata": {
    "pycharm": {
     "name": "#%%\n"
    }
   },
   "outputs": [],
   "source": [
    "df_data.info()"
   ]
  },
  {
   "cell_type": "markdown",
   "id": "9e50fa55",
   "metadata": {
    "pycharm": {
     "name": "#%% md\n"
    }
   },
   "source": [
    "Number of rows and number of columns:"
   ]
  },
  {
   "cell_type": "code",
   "execution_count": null,
   "id": "b19616dc",
   "metadata": {
    "pycharm": {
     "name": "#%%\n"
    }
   },
   "outputs": [],
   "source": [
    "rows = df_data.shape[0]\n",
    "columns = df_data.shape[1]\n",
    "print(\"number of rows and number of columns respectively:\" + str(rows) + \", \" + str(columns))"
   ]
  },
  {
   "cell_type": "markdown",
   "id": "a1e8afc4",
   "metadata": {
    "pycharm": {
     "name": "#%% md\n"
    }
   },
   "source": [
    "Descriptive details of 'Wind Direction' column are:"
   ]
  },
  {
   "cell_type": "code",
   "execution_count": null,
   "id": "955aa761",
   "metadata": {
    "pycharm": {
     "name": "#%%\n"
    }
   },
   "outputs": [],
   "source": [
    "df_data['Wind Direction'].describe()"
   ]
  },
  {
   "cell_type": "markdown",
   "id": "dd4e8b72",
   "metadata": {
    "pycharm": {
     "name": "#%% md\n"
    }
   },
   "source": [
    "The average outside temp for each day:"
   ]
  },
  {
   "cell_type": "code",
   "execution_count": null,
   "id": "56bb2d31",
   "metadata": {
    "pycharm": {
     "name": "#%%\n"
    }
   },
   "outputs": [],
   "source": [
    "df_data.groupby('Date', as_index=False)['Outside Temperature'].mean()\n"
   ]
  },
  {
   "cell_type": "markdown",
   "id": "44eb3f83",
   "metadata": {
    "pycharm": {
     "name": "#%% md\n"
    }
   },
   "source": [
    "The average outside temp for each week"
   ]
  },
  {
   "cell_type": "code",
   "execution_count": null,
   "id": "4403a0d1",
   "metadata": {
    "pycharm": {
     "name": "#%%\n"
    },
    "scrolled": false
   },
   "outputs": [],
   "source": [
    "df_data['Date'] = pd.to_datetime(df_data['Date'], infer_datetime_format=True)\n",
    "df = df_data.resample('W', on='Date')['Outside Temperature'].mean()\n",
    "print(df)"
   ]
  },
  {
   "cell_type": "markdown",
   "id": "97bcebe9",
   "metadata": {
    "pycharm": {
     "name": "#%% md\n"
    }
   },
   "source": [
    "Maximum temperature difference each day for all the days of the months:"
   ]
  },
  {
   "cell_type": "code",
   "execution_count": null,
   "id": "2b5ecd74",
   "metadata": {
    "pycharm": {
     "name": "#%%\n"
    },
    "scrolled": true
   },
   "outputs": [],
   "source": [
    "df_data.groupby('Date')['Outside Temperature'].max() - df_data.groupby('Date')['Outside Temperature'].min()"
   ]
  },
  {
   "cell_type": "markdown",
   "id": "fba5f46a",
   "metadata": {
    "pycharm": {
     "name": "#%% md\n"
    }
   },
   "source": [
    "Minium temperature difference each day for all the days of the months:"
   ]
  },
  {
   "cell_type": "code",
   "execution_count": null,
   "id": "7327ff39",
   "metadata": {
    "pycharm": {
     "name": "#%%\n"
    },
    "scrolled": true
   },
   "outputs": [],
   "source": [
    "df_data['datetime'] = pd.to_datetime(df_data['Date'].astype(str) + ' ' + df_data['Time'])\n",
    "# sort by datetime\n",
    "df_data = df_data.sort_values('datetime')\n",
    "# group by date and get minimum absolute difference between consecutive outside temps\n",
    "def min_diff(group):\n",
    "    return group['Outside Temperature'].diff().abs().min()\n",
    "result = df_data.groupby('Date').apply(min_diff).reset_index(name='Min Temp Diff')\n",
    "print(\"min outside Temp diff each day\")\n",
    "print(result)\n"
   ]
  },
  {
   "cell_type": "markdown",
   "id": "8c396cc0",
   "metadata": {
    "pycharm": {
     "name": "#%% md\n"
    }
   },
   "source": [
    "The unique values for each column are:"
   ]
  },
  {
   "cell_type": "code",
   "execution_count": null,
   "id": "9eb95c53",
   "metadata": {
    "pycharm": {
     "name": "#%%\n"
    }
   },
   "outputs": [],
   "source": [
    "for col in df_data:\n",
    "    print(f'{col}: {df_data[col].unique()}' + \"\\n\")"
   ]
  },
  {
   "cell_type": "markdown",
   "id": "2ed52222",
   "metadata": {
    "pycharm": {
     "name": "#%% md\n"
    }
   },
   "source": [
    "The average time of hottest daily temperature (over month)"
   ]
  },
  {
   "cell_type": "code",
   "execution_count": null,
   "id": "54b1d026",
   "metadata": {
    "pycharm": {
     "name": "#%%\n"
    }
   },
   "outputs": [],
   "source": [
    "idx = df_data.groupby(['Date'])['Outside Temperature'].transform(max) == df_data['Outside Temperature']\n",
    "new_df = df_data[idx]\n",
    "def time_to_seconds(t):\n",
    "    dt = datetime.strptime(t, \"%H:%M\")\n",
    "    return dt.hour * 3600 + dt.minute * 60 + dt.second\n",
    "\n",
    "new_df['seconds'] = new_df['Time'].apply(time_to_seconds)\n",
    "# compute the average time in seconds\n",
    "mean_seconds = new_df['seconds'].mean()\n",
    "# convert back to hh:mm:ss\n",
    "avg_time = str(timedelta(seconds=int(mean_seconds)))\n",
    "avg_hottest_time = avg_time\n",
    "# save to file\n",
    "with open(\"outside_temperature.txt\", \"a\") as f:\n",
    "    f.writelines(avg_hottest_time)\n"
   ]
  },
  {
   "cell_type": "markdown",
   "id": "b4bf4f82",
   "metadata": {
    "pycharm": {
     "name": "#%% md\n"
    }
   },
   "source": [
    "The time of the day that is the most commonly occurring hottest time"
   ]
  },
  {
   "cell_type": "code",
   "execution_count": null,
   "id": "9cbd6040",
   "metadata": {
    "pycharm": {
     "name": "#%%\n"
    }
   },
   "outputs": [],
   "source": [
    "idx = df_data.groupby(['Date'])['Outside Temperature'].transform(max) == df_data['Outside Temperature']\n",
    "new_df = df_data[idx]\n",
    "mode = new_df['Time'].value_counts().idxmax()\n",
    "f = open(\"outside_temperature.txt\", \"a\")\n",
    "f.write(\"\\n most frequent hottest time\" + mode)\n",
    "f.close()\n"
   ]
  },
  {
   "cell_type": "markdown",
   "id": "2646df84",
   "metadata": {
    "pycharm": {
     "name": "#%% md\n"
    }
   },
   "source": [
    "The top ten hottest times on distinct days, sorted by date order"
   ]
  },
  {
   "cell_type": "code",
   "execution_count": null,
   "id": "d486263e",
   "metadata": {
    "pycharm": {
     "name": "#%%\n"
    }
   },
   "outputs": [],
   "source": [
    "idx = df_data.groupby(['Date'])['Outside Temperature'].transform(max) == df_data['Outside Temperature']\n",
    "new_df = df_data[idx]\n",
    "sorted_df = new_df.sort_values(by=['Outside Temperature'])\n",
    "top_10_df= sorted_df.tail(10)\n",
    "top_10_df['datetime'] = pd.to_datetime(top_10_df['Date'],dayfirst=True)\n",
    "sorted_top_10_df = top_10_df.sort_values(by=['datetime'])\n",
    "#print(sorted_top_10_df)\n",
    "f = open(\"outside_temperature.txt\", \"a\")\n",
    "f.writelines(['\\n', str(sorted_top_10_df['Date']), ' ', str(sorted_top_10_df['Time']), ' ', str(sorted_top_10_df['Outside Temperature'])])\n",
    "f.close()"
   ]
  },
  {
   "cell_type": "markdown",
   "id": "b5563cec",
   "metadata": {
    "pycharm": {
     "name": "#%% md\n"
    }
   },
   "source": [
    "All of the Dates and Times where the “Hi Temperature” was within +/- 1 degree of 22.3 OR the “Low Temperature” was within +/- 0.2 degree higher OR lower of 10.3 over the first 9 days of June"
   ]
  },
  {
   "cell_type": "code",
   "execution_count": null,
   "id": "f8787f4a",
   "metadata": {
    "pycharm": {
     "name": "#%%\n"
    }
   },
   "outputs": [],
   "source": [
    "f1 = open(\"Hi_Temperature.txt\", \"a\")\n",
    "df_data['datetime'] = pd.to_datetime(df_data['Date'],dayfirst=True)\n",
    "filtered_df = df_data.loc[(df_data['datetime'] >= '2006-06-01')& (df_data['datetime'] < '2006-06-10')]\n",
    "result_df = filtered_df[(filtered_df['Hi Temperature'] >= 21.3) & (filtered_df['Hi Temperature'] <= 23.3) | (filtered_df['Low Temperature'] >= 10.1) & (filtered_df['Low Temperature'] <= 10.5) ]\n",
    "f1.writelines(['\\n', str(result_df['Date']), ' ', str(result_df['Time'])])\n",
    "f1.close()\n",
    "#print(result_df)"
   ]
  },
  {
   "cell_type": "markdown",
   "id": "1c087dd9",
   "metadata": {
    "pycharm": {
     "name": "#%% md\n"
    }
   },
   "source": [
    "Visulalize the temperature for each month"
   ]
  },
  {
   "cell_type": "code",
   "execution_count": null,
   "id": "8024e4c3",
   "metadata": {
    "pycharm": {
     "name": "#%%\n"
    }
   },
   "outputs": [],
   "source": [
    "df_data['Date'] = pd.to_datetime(df_data['Date'], dayfirst=True)\n",
    "monthly_avg = df_data.resample('M', on='Date')['Outside Temperature'].mean()\n",
    "\n",
    "plt.figure(figsize=(10, 5))\n",
    "sns.lineplot(x=monthly_avg.index, y=monthly_avg.values, marker='o')\n",
    "\n",
    "plt.xticks(ticks=monthly_avg.index, labels=monthly_avg.index.strftime('%b %Y'), rotation=45)\n",
    "\n",
    "plt.title('Average outside temperature per month')\n",
    "plt.xlabel('Month')\n",
    "plt.ylabel('Average temperature')\n",
    "plt.tight_layout()\n",
    "plt.show()"
   ]
  },
  {
   "cell_type": "markdown",
   "id": "4f2c596a",
   "metadata": {
    "pycharm": {
     "name": "#%% md\n"
    }
   },
   "source": [
    "Display the time period on a bar plot which has highest temperature for the first 5 days of every month"
   ]
  },
  {
   "cell_type": "code",
   "execution_count": null,
   "id": "da485dd9",
   "metadata": {
    "pycharm": {
     "name": "#%%\n"
    }
   },
   "outputs": [],
   "source": [
    "# get first 5 days of each month with at least 5 days of data\n",
    "df_data['Date'] = pd.to_datetime(df_data['Date'], dayfirst=True)\n",
    "df_data['Day'] = df_data['Date'].dt.day\n",
    "df_data['Month'] = df_data['Date'].dt.to_period('M')\n",
    "\n",
    "# keep only months that have 5 or more distinct days ≤ 5\n",
    "valid_months = df_data[df_data['Day'] <= 5].groupby('Month')['Day'].nunique()\n",
    "valid_months = valid_months[valid_months >= 5].index\n",
    "\n",
    "# filter data to only those valid months and first 5 days\n",
    "filtered = df_data[\n",
    "    (df_data['Month'].isin(valid_months)) & (df_data['Day'] <= 5)\n",
    "]\n",
    "\n",
    "# group by month and compute average\n",
    "monthly_avg = filtered.groupby('Month')['Outside Temperature'].mean().reset_index()\n",
    "monthly_avg['Month'] = monthly_avg['Month'].astype(str)\n",
    "\n",
    "plt.figure(figsize=(8, 5))\n",
    "sns.barplot(x='Month', y='Outside Temperature', data=monthly_avg)\n",
    "plt.title('Avg Temperature for First 5 Days of Each Month')\n",
    "plt.xlabel('Month')\n",
    "plt.ylabel('Avg Temperature')\n",
    "plt.tight_layout()\n",
    "plt.show()"
   ]
  },
  {
   "cell_type": "markdown",
   "id": "449a7d78",
   "metadata": {
    "pycharm": {
     "name": "#%% md\n"
    }
   },
   "source": [
    "Finding out an 'interesting' information from the data set."
   ]
  },
  {
   "cell_type": "code",
   "execution_count": 19,
   "id": "262e8c26",
   "metadata": {
    "pycharm": {
     "name": "#%%\n"
    }
   },
   "outputs": [
    {
     "data": {
      "image/png": "[encoded data removed]",
      "text/plain": [
       "<Figure size 432x288 with 2 Axes>"
      ]
     },
     "metadata": {
      "needs_background": "light"
     },
     "output_type": "display_data"
    },
    {
     "data": {
      "image/png": "[encoded data removed]",
      "text/plain": [
       "<Figure size 720x432 with 1 Axes>"
      ]
     },
     "metadata": {
      "needs_background": "light"
     },
     "output_type": "display_data"
    }
   ],
   "source": [
    "df = df_data[['Date', 'Time','Outside Temperature','Outside Humidity','WindSpeed']]\n",
    "\n",
    "temp = df['Outside Temperature'].tolist()\n",
    "hum = df['Outside Humidity'].tolist()\n",
    "wind = df['WindSpeed'].tolist()\n",
    "# First visualization (correlation heatmap) between selected attributes (Wind speed, outside temperature, and outside humidity)\n",
    "# the picture shows a clear correlation between humidity and temperature\n",
    "sns.heatmap(df.corr())\n",
    "plt.show()\n",
    "# second visualization plots the positive correlation relationship between humidity and temperature\n",
    "fig = plt.figure()\n",
    "fig.set_size_inches(10, 6)\n",
    "plt.scatter(hum, temp)\n",
    "plt.title('Correlation between Outside Temperature and Humidity')\n",
    "plt.xlabel('Humidity')\n",
    "plt.ylabel('Temperature')\n",
    "plt.show()"
   ]
  }
 ],
 "metadata": {
  "kernelspec": {
   "display_name": "base",
   "language": "python",
   "name": "python3"
  },
  "language_info": {
   "codemirror_mode": {
    "name": "ipython",
    "version": 3
   },
   "file_extension": ".py",
   "mimetype": "text/x-python",
   "name": "python",
   "nbconvert_exporter": "python",
   "pygments_lexer": "ipython3",
   "version": "3.9.12"
  }
 },
 "nbformat": 4,
 "nbformat_minor": 5
}
